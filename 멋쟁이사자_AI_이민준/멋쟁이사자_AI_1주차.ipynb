{
  "nbformat": 4,
  "nbformat_minor": 0,
  "metadata": {
    "colab": {
      "provenance": []
    },
    "kernelspec": {
      "name": "python3",
      "display_name": "Python 3"
    },
    "language_info": {
      "name": "python"
    }
  },
  "cells": [
    {
      "cell_type": "markdown",
      "source": [
        "202014068_이민준"
      ],
      "metadata": {
        "id": "ZgIGdblL1op8"
      }
    },
    {
      "cell_type": "code",
      "source": [
        "!pip install konlpy\n",
        "!pip install jpype1==1.0.2\n",
        "\n",
        "import os\n",
        "os.environ[\"JAVA_HOME\"] = \"/usr/lib/jvm/java-11-openjdk-amd64\"\n",
        "\n",
        "from konlpy.tag import Okt"
      ],
      "metadata": {
        "colab": {
          "base_uri": "https://localhost:8080/",
          "height": 0
        },
        "id": "x_BDWfSuxD8e",
        "outputId": "60eafdf1-f906-420b-84ca-f0991dcf2031"
      },
      "execution_count": 7,
      "outputs": [
        {
          "output_type": "stream",
          "name": "stdout",
          "text": [
            "Collecting konlpy\n",
            "  Downloading konlpy-0.6.0-py2.py3-none-any.whl.metadata (1.9 kB)\n",
            "Collecting JPype1>=0.7.0 (from konlpy)\n",
            "  Downloading jpype1-1.5.2-cp311-cp311-manylinux_2_17_x86_64.manylinux2014_x86_64.whl.metadata (4.9 kB)\n",
            "Requirement already satisfied: lxml>=4.1.0 in /usr/local/lib/python3.11/dist-packages (from konlpy) (5.3.1)\n",
            "Requirement already satisfied: numpy>=1.6 in /usr/local/lib/python3.11/dist-packages (from konlpy) (2.0.2)\n",
            "Requirement already satisfied: packaging in /usr/local/lib/python3.11/dist-packages (from JPype1>=0.7.0->konlpy) (24.2)\n",
            "Downloading konlpy-0.6.0-py2.py3-none-any.whl (19.4 MB)\n",
            "\u001b[2K   \u001b[90m━━━━━━━━━━━━━━━━━━━━━━━━━━━━━━━━━━━━━━━━\u001b[0m \u001b[32m19.4/19.4 MB\u001b[0m \u001b[31m46.5 MB/s\u001b[0m eta \u001b[36m0:00:00\u001b[0m\n",
            "\u001b[?25hDownloading jpype1-1.5.2-cp311-cp311-manylinux_2_17_x86_64.manylinux2014_x86_64.whl (494 kB)\n",
            "\u001b[2K   \u001b[90m━━━━━━━━━━━━━━━━━━━━━━━━━━━━━━━━━━━━━━━━\u001b[0m \u001b[32m494.1/494.1 kB\u001b[0m \u001b[31m36.2 MB/s\u001b[0m eta \u001b[36m0:00:00\u001b[0m\n",
            "\u001b[?25hInstalling collected packages: JPype1, konlpy\n",
            "Successfully installed JPype1-1.5.2 konlpy-0.6.0\n",
            "Collecting jpype1==1.0.2\n",
            "  Downloading JPype1-1.0.2.tar.gz (748 kB)\n",
            "\u001b[2K     \u001b[90m━━━━━━━━━━━━━━━━━━━━━━━━━━━━━━━━━━━━━━━━\u001b[0m \u001b[32m748.1/748.1 kB\u001b[0m \u001b[31m9.6 MB/s\u001b[0m eta \u001b[36m0:00:00\u001b[0m\n",
            "\u001b[?25h  Preparing metadata (setup.py) ... \u001b[?25l\u001b[?25hdone\n",
            "Building wheels for collected packages: jpype1\n",
            "  \u001b[1;31merror\u001b[0m: \u001b[1msubprocess-exited-with-error\u001b[0m\n",
            "  \n",
            "  \u001b[31m×\u001b[0m \u001b[32mpython setup.py bdist_wheel\u001b[0m did not run successfully.\n",
            "  \u001b[31m│\u001b[0m exit code: \u001b[1;36m1\u001b[0m\n",
            "  \u001b[31m╰─>\u001b[0m See above for output.\n",
            "  \n",
            "  \u001b[1;35mnote\u001b[0m: This error originates from a subprocess, and is likely not a problem with pip.\n",
            "  Building wheel for jpype1 (setup.py) ... \u001b[?25lerror\n",
            "\u001b[31m  ERROR: Failed building wheel for jpype1\u001b[0m\u001b[31m\n",
            "\u001b[0m\u001b[?25h  Running setup.py clean for jpype1\n",
            "Failed to build jpype1\n",
            "\u001b[31mERROR: ERROR: Failed to build installable wheels for some pyproject.toml based projects (jpype1)\u001b[0m\u001b[31m\n",
            "\u001b[0m"
          ]
        }
      ]
    },
    {
      "cell_type": "code",
      "execution_count": 15,
      "metadata": {
        "colab": {
          "base_uri": "https://localhost:8080/",
          "height": 0
        },
        "id": "qMP5uEdLvZoQ",
        "outputId": "be99bed2-ab3e-4843-98d2-52e82aa6c31c"
      },
      "outputs": [
        {
          "output_type": "stream",
          "name": "stdout",
          "text": [
            "                  sentence  score     ratio\n",
            "0    오늘 날씨가 너무 좋아서 기분이 좋다.    1.0  0.222222\n",
            "1  이 영화는 정말 별로였어. 너무 지루했다.   -1.0  0.200000\n",
            "2        맛있는 음식을 먹어서 행복하다.    1.0  0.333333\n",
            "3     이 책은 이해하기 어려워서 실망했다.   -1.0  0.250000\n"
          ]
        }
      ],
      "source": [
        "import pandas as pd\n",
        "from konlpy.tag import Okt\n",
        "\n",
        "# 간단한 감성 사전 정의\n",
        "pos_words = ['좋다', '행복', '맛있', '좋아', '즐겁']\n",
        "neg_words = ['싫', '별로', '지루', '실망', '어렵', '어려워']\n",
        "\n",
        "# 감성 분석 함수\n",
        "def analyze_sentiment(sentence):\n",
        "    okt = Okt()\n",
        "    tokens = okt.morphs(sentence)\n",
        "\n",
        "    pos_count = sum(1 for word in tokens if any(p in word for p in pos_words))\n",
        "    neg_count = sum(1 for word in tokens if any(n in word for n in neg_words))\n",
        "\n",
        "    total = pos_count + neg_count\n",
        "\n",
        "    if total == 0:\n",
        "        return 0.0, 0.0\n",
        "    score = (pos_count - neg_count) / total\n",
        "    ratio = total / len(tokens)\n",
        "    return score, ratio\n",
        "\n",
        "# 텍스트 불러오기\n",
        "df = pd.read_csv(\"text_data_1.txt\", header=None, names=[\"sentence\"])\n",
        "\n",
        "# 분석 적용\n",
        "scores, ratios = [], []\n",
        "for sentence in df['sentence']:\n",
        "    score, ratio = analyze_sentiment(sentence)\n",
        "    scores.append(score)\n",
        "    ratios.append(ratio)\n",
        "\n",
        "df['score'] = scores\n",
        "df['ratio'] = ratios\n",
        "\n",
        "print(df)"
      ]
    }
  ]
}